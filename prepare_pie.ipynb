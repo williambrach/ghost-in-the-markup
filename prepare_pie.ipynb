{
 "cells": [
  {
   "cell_type": "code",
   "execution_count": 34,
   "metadata": {},
   "outputs": [],
   "source": [
    "import json\n",
    "import os"
   ]
  },
  {
   "cell_type": "code",
   "execution_count": null,
   "metadata": {},
   "outputs": [],
   "source": [
    "path = \"src/data/true/synthetic\"\n",
    "files = os.listdir(path)\n",
    "files = [f for f in files if f.endswith(\".txt\")]\n",
    "data = {}\n",
    "for filename in files:\n",
    "    with open(os.path.join(path, filename)) as f:\n",
    "        lines = f.readlines()\n",
    "        d = {}\n",
    "        lines = [l.strip() for l in lines if l != \"\\n\"]\n",
    "        for i in range(0, len(lines), 2):\n",
    "            key = lines[i]\n",
    "            value = lines[i + 1]\n",
    "            d[key] = value\n",
    "    data[filename.replace(\".txt\", \"\")] = d\n",
    "\n",
    "with open(\"src/data/true/synthetic/labels.json\", \"w\") as f:\n",
    "    json.dump(data, f, indent=4)"
   ]
  }
 ],
 "metadata": {
  "kernelspec": {
   "display_name": ".venv",
   "language": "python",
   "name": "python3"
  },
  "language_info": {
   "codemirror_mode": {
    "name": "ipython",
    "version": 3
   },
   "file_extension": ".py",
   "mimetype": "text/x-python",
   "name": "python",
   "nbconvert_exporter": "python",
   "pygments_lexer": "ipython3",
   "version": "3.12.3"
  }
 },
 "nbformat": 4,
 "nbformat_minor": 2
}
