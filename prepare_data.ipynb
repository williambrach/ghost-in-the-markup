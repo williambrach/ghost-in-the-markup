{
 "cells": [
  {
   "cell_type": "code",
   "execution_count": 1,
   "metadata": {},
   "outputs": [],
   "source": [
    "import os\n",
    "\n",
    "from bs4 import BeautifulSoup\n",
    "from playwright.async_api import async_playwright\n",
    "\n",
    "import sys\n",
    "import asyncio\n",
    "\n",
    "if sys.platform == \"win32\":\n",
    "    asyncio.set_event_loop_policy(asyncio.WindowsProactorEventLoopPolicy())"
   ]
  },
  {
   "cell_type": "code",
   "execution_count": 2,
   "metadata": {},
   "outputs": [],
   "source": [
    "SERVER_URL = \"0.0.0.0:8000\"\n",
    "TRUE_PATH = \"src\\\\data\\\\true\"\n",
    "GENERATED_PATH = \"src\\\\data\\\\generated\"\n",
    "METHODS = [\"prompt_injection\", \"iframe\", \"obfuscation\", \"true\", \"htmlAppend\", \"shadowRootOpen\", \"shadowRootClose\"]  # \"random_elements\""
   ]
  },
  {
   "cell_type": "code",
   "execution_count": 3,
   "metadata": {},
   "outputs": [],
   "source": [
    "folders = [\n",
    "    f for f in os.listdir(TRUE_PATH) if os.path.isdir(os.path.join(TRUE_PATH, f))\n",
    "]\n",
    "\n",
    "# check if generated folder exists if not create folder\n",
    "if not os.path.exists(GENERATED_PATH):\n",
    "    os.makedirs(GENERATED_PATH)"
   ]
  },
  {
   "cell_type": "code",
   "execution_count": null,
   "metadata": {},
   "outputs": [
    {
     "ename": "Error",
     "evalue": "It looks like you are using Playwright Sync API inside the asyncio loop.\nPlease use the Async API instead.",
     "output_type": "error",
     "traceback": [
      "\u001b[1;31m---------------------------------------------------------------------------\u001b[0m",
      "\u001b[1;31mError\u001b[0m                                     Traceback (most recent call last)",
      "Cell \u001b[1;32mIn[14], line 58\u001b[0m\n\u001b[0;32m     52\u001b[0m         browser\u001b[38;5;241m.\u001b[39mclose()\n\u001b[0;32m     54\u001b[0m     \u001b[38;5;28mprint\u001b[39m(\u001b[38;5;124m\"\u001b[39m\u001b[38;5;124mScraping completed.\u001b[39m\u001b[38;5;124m\"\u001b[39m)\n\u001b[1;32m---> 58\u001b[0m \u001b[43mrun_scraper\u001b[49m\u001b[43m(\u001b[49m\u001b[43m)\u001b[49m\n",
      "Cell \u001b[1;32mIn[14], line 30\u001b[0m, in \u001b[0;36mrun_scraper\u001b[1;34m()\u001b[0m\n\u001b[0;32m     29\u001b[0m \u001b[38;5;28;01mdef\u001b[39;00m\u001b[38;5;250m \u001b[39m\u001b[38;5;21mrun_scraper\u001b[39m() \u001b[38;5;241m-\u001b[39m\u001b[38;5;241m>\u001b[39m \u001b[38;5;28;01mNone\u001b[39;00m:\n\u001b[1;32m---> 30\u001b[0m     \u001b[38;5;28;01mwith\u001b[39;00m sync_playwright() \u001b[38;5;28;01mas\u001b[39;00m p:\n\u001b[0;32m     31\u001b[0m         browser \u001b[38;5;241m=\u001b[39m p\u001b[38;5;241m.\u001b[39mchromium\u001b[38;5;241m.\u001b[39mlaunch(headless\u001b[38;5;241m=\u001b[39m\u001b[38;5;28;01mTrue\u001b[39;00m)\n\u001b[0;32m     32\u001b[0m         context \u001b[38;5;241m=\u001b[39m browser\u001b[38;5;241m.\u001b[39mnew_context()\n",
      "File \u001b[1;32mc:\\Users\\Petrik\\Desktop\\ghost-in-the-markup\\.venv\\Lib\\site-packages\\playwright\\sync_api\\_context_manager.py:47\u001b[0m, in \u001b[0;36mPlaywrightContextManager.__enter__\u001b[1;34m(self)\u001b[0m\n\u001b[0;32m     45\u001b[0m             \u001b[38;5;28mself\u001b[39m\u001b[38;5;241m.\u001b[39m_own_loop \u001b[38;5;241m=\u001b[39m \u001b[38;5;28;01mTrue\u001b[39;00m\n\u001b[0;32m     46\u001b[0m         \u001b[38;5;28;01mif\u001b[39;00m \u001b[38;5;28mself\u001b[39m\u001b[38;5;241m.\u001b[39m_loop\u001b[38;5;241m.\u001b[39mis_running():\n\u001b[1;32m---> 47\u001b[0m             \u001b[38;5;28;01mraise\u001b[39;00m Error(\n\u001b[0;32m     48\u001b[0m \u001b[38;5;250m                \u001b[39m\u001b[38;5;124;03m\"\"\"It looks like you are using Playwright Sync API inside the asyncio loop.\u001b[39;00m\n\u001b[0;32m     49\u001b[0m \u001b[38;5;124;03mPlease use the Async API instead.\"\"\"\u001b[39;00m\n\u001b[0;32m     50\u001b[0m             )\n\u001b[0;32m     52\u001b[0m         \u001b[38;5;66;03m# Create a new fiber for the protocol dispatcher. It will be pumping events\u001b[39;00m\n\u001b[0;32m     53\u001b[0m         \u001b[38;5;66;03m# until the end of times. We will pass control to that fiber every time we\u001b[39;00m\n\u001b[0;32m     54\u001b[0m         \u001b[38;5;66;03m# block while waiting for a response.\u001b[39;00m\n\u001b[0;32m     55\u001b[0m         \u001b[38;5;28;01mdef\u001b[39;00m\u001b[38;5;250m \u001b[39m\u001b[38;5;21mgreenlet_main\u001b[39m() \u001b[38;5;241m-\u001b[39m\u001b[38;5;241m>\u001b[39m \u001b[38;5;28;01mNone\u001b[39;00m:\n",
      "\u001b[1;31mError\u001b[0m: It looks like you are using Playwright Sync API inside the asyncio loop.\nPlease use the Async API instead."
     ]
    }
   ],
   "source": [
    "import os\n",
    "from bs4 import BeautifulSoup\n",
    "from playwright.sync_api import sync_playwright\n",
    "import multiprocessing\n",
    "\n",
    "\n",
    "def save_content(content: str, save_folder_path: str) -> None:\n",
    "    soup = BeautifulSoup(content, \"html.parser\")\n",
    "    print('here')\n",
    "    with open(save_folder_path, \"w\") as f:\n",
    "        print(save_folder_path)\n",
    "        f.write(str(soup))\n",
    "\n",
    "\n",
    "def scrape_page(page: object, file_path: str, method: str, save_folder_path: str) -> None:\n",
    "    if method == \"true\":\n",
    "        url = f\"http://{SERVER_URL}?file_path={file_path}\"\n",
    "    else:\n",
    "        url = f\"http://{SERVER_URL}?file_path={file_path}&method={method}\"\n",
    "\n",
    "    try:\n",
    "        page.goto(url, timeout=60000, wait_until=\"networkidle\")\n",
    "        content = page.content()\n",
    "        save_content(content, save_folder_path)\n",
    "    except Exception as e:\n",
    "        print(f\"Error scraping {url}: {e}\")\n",
    "\n",
    "\n",
    "def run_scraper() -> None:\n",
    "    with sync_playwright() as p:\n",
    "        browser = p.chromium.launch(headless=True)\n",
    "        context = browser.new_context()\n",
    "        page = context.new_page()\n",
    "\n",
    "        for folder in folders:\n",
    "            files = [\n",
    "                f\n",
    "                for f in os.listdir(os.path.join(TRUE_PATH, folder))\n",
    "                if os.path.isfile(os.path.join(TRUE_PATH, folder, f))\n",
    "            ]\n",
    "            for file in files:\n",
    "                file_path = os.path.join(folder, file)\n",
    "                for method in METHODS:\n",
    "                    save_folder_path = os.path.join(GENERATED_PATH, folder, method)\n",
    "                    if not os.path.exists(save_folder_path):\n",
    "                        os.makedirs(save_folder_path)\n",
    "                    save_folder_path = os.path.join(save_folder_path, file)\n",
    "                    print(save_folder_path)\n",
    "                    file_path = os.path.join(TRUE_PATH, file_path)\n",
    "                    scrape_page(page, file_path, method, save_folder_path)\n",
    "\n",
    "        browser.close()\n",
    "\n",
    "    print(\"Scraping completed.\")\n",
    "\n",
    "\n",
    "def main():\n",
    "    run_scraper()\n",
    "\n",
    "\n",
    "if __name__ == \"__main__\":\n",
    "    main()\n"
   ]
  }
 ],
 "metadata": {
  "kernelspec": {
   "display_name": ".venv",
   "language": "python",
   "name": "python3"
  },
  "language_info": {
   "codemirror_mode": {
    "name": "ipython",
    "version": 3
   },
   "file_extension": ".py",
   "mimetype": "text/x-python",
   "name": "python",
   "nbconvert_exporter": "python",
   "pygments_lexer": "ipython3",
   "version": "3.12.7"
  }
 },
 "nbformat": 4,
 "nbformat_minor": 2
}
