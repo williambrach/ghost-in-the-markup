{
 "cells": [
  {
   "cell_type": "code",
   "execution_count": 33,
   "metadata": {},
   "outputs": [],
   "source": [
    "import os\n",
    "\n",
    "from bs4 import BeautifulSoup\n",
    "from playwright.async_api import async_playwright"
   ]
  },
  {
   "cell_type": "code",
   "execution_count": 34,
   "metadata": {},
   "outputs": [],
   "source": [
    "SERVER_URL = \"0.0.0.0:8000\"\n",
    "TRUE_PATH = \"src/data/true\"\n",
    "GENERATED_PATH = \"src/data/generated\"\n",
    "METHODS = [\"prompt_injection\", \"random_elements\", \"iframe\", \"obfuscation\", \"true\"]"
   ]
  },
  {
   "cell_type": "code",
   "execution_count": 35,
   "metadata": {},
   "outputs": [],
   "source": [
    "folders = [\n",
    "    f for f in os.listdir(TRUE_PATH) if os.path.isdir(os.path.join(TRUE_PATH, f))\n",
    "]\n",
    "\n",
    "# check if generated folder exists if not create folder\n",
    "if not os.path.exists(GENERATED_PATH):\n",
    "    os.makedirs(GENERATED_PATH)"
   ]
  },
  {
   "cell_type": "code",
   "execution_count": 46,
   "metadata": {},
   "outputs": [
    {
     "name": "stdout",
     "output_type": "stream",
     "text": [
      "Successfully scraped: http://0.0.0.0:8000?file_path=dummy/recipe_1.html&method=prompt_injection\n",
      "Generated src/data/generated/dummy/prompt_injection/recipe_1.html\n",
      "Successfully scraped: http://0.0.0.0:8000?file_path=dummy/recipe_1.html&method=random_elements\n",
      "Generated src/data/generated/dummy/random_elements/recipe_1.html\n",
      "Successfully scraped: http://0.0.0.0:8000?file_path=dummy/recipe_1.html&method=iframe\n",
      "Generated src/data/generated/dummy/iframe/recipe_1.html\n",
      "Successfully scraped: http://0.0.0.0:8000?file_path=dummy/recipe_1.html&method=obfuscation\n",
      "Generated src/data/generated/dummy/obfuscation/recipe_1.html\n",
      "Successfully scraped: http://0.0.0.0:8000?file_path=dummy/recipe_1.html\n",
      "Generated src/data/generated/dummy/true/recipe_1.html\n",
      "Successfully scraped: http://0.0.0.0:8000?file_path=dummy/recipe_5.html&method=prompt_injection\n",
      "Generated src/data/generated/dummy/prompt_injection/recipe_5.html\n",
      "Successfully scraped: http://0.0.0.0:8000?file_path=dummy/recipe_5.html&method=random_elements\n",
      "Generated src/data/generated/dummy/random_elements/recipe_5.html\n",
      "Successfully scraped: http://0.0.0.0:8000?file_path=dummy/recipe_5.html&method=iframe\n",
      "Generated src/data/generated/dummy/iframe/recipe_5.html\n",
      "Successfully scraped: http://0.0.0.0:8000?file_path=dummy/recipe_5.html&method=obfuscation\n",
      "Generated src/data/generated/dummy/obfuscation/recipe_5.html\n",
      "Successfully scraped: http://0.0.0.0:8000?file_path=dummy/recipe_5.html\n",
      "Generated src/data/generated/dummy/true/recipe_5.html\n",
      "Successfully scraped: http://0.0.0.0:8000?file_path=dummy/recipe_4.html&method=prompt_injection\n",
      "Generated src/data/generated/dummy/prompt_injection/recipe_4.html\n",
      "Successfully scraped: http://0.0.0.0:8000?file_path=dummy/recipe_4.html&method=random_elements\n",
      "Generated src/data/generated/dummy/random_elements/recipe_4.html\n",
      "Successfully scraped: http://0.0.0.0:8000?file_path=dummy/recipe_4.html&method=iframe\n",
      "Generated src/data/generated/dummy/iframe/recipe_4.html\n",
      "Successfully scraped: http://0.0.0.0:8000?file_path=dummy/recipe_4.html&method=obfuscation\n",
      "Generated src/data/generated/dummy/obfuscation/recipe_4.html\n",
      "Successfully scraped: http://0.0.0.0:8000?file_path=dummy/recipe_4.html\n",
      "Generated src/data/generated/dummy/true/recipe_4.html\n",
      "Successfully scraped: http://0.0.0.0:8000?file_path=dummy/recipe_3.html&method=prompt_injection\n",
      "Generated src/data/generated/dummy/prompt_injection/recipe_3.html\n",
      "Successfully scraped: http://0.0.0.0:8000?file_path=dummy/recipe_3.html&method=random_elements\n",
      "Generated src/data/generated/dummy/random_elements/recipe_3.html\n",
      "Successfully scraped: http://0.0.0.0:8000?file_path=dummy/recipe_3.html&method=iframe\n",
      "Generated src/data/generated/dummy/iframe/recipe_3.html\n",
      "Successfully scraped: http://0.0.0.0:8000?file_path=dummy/recipe_3.html&method=obfuscation\n",
      "Generated src/data/generated/dummy/obfuscation/recipe_3.html\n",
      "Successfully scraped: http://0.0.0.0:8000?file_path=dummy/recipe_3.html\n",
      "Generated src/data/generated/dummy/true/recipe_3.html\n",
      "Successfully scraped: http://0.0.0.0:8000?file_path=dummy/recipe_2.html&method=prompt_injection\n",
      "Generated src/data/generated/dummy/prompt_injection/recipe_2.html\n",
      "Successfully scraped: http://0.0.0.0:8000?file_path=dummy/recipe_2.html&method=random_elements\n",
      "Generated src/data/generated/dummy/random_elements/recipe_2.html\n",
      "Successfully scraped: http://0.0.0.0:8000?file_path=dummy/recipe_2.html&method=iframe\n",
      "Generated src/data/generated/dummy/iframe/recipe_2.html\n",
      "Successfully scraped: http://0.0.0.0:8000?file_path=dummy/recipe_2.html&method=obfuscation\n",
      "Generated src/data/generated/dummy/obfuscation/recipe_2.html\n",
      "Successfully scraped: http://0.0.0.0:8000?file_path=dummy/recipe_2.html\n",
      "Generated src/data/generated/dummy/true/recipe_2.html\n",
      "Scraping completed.\n"
     ]
    }
   ],
   "source": [
    "async def save_content(content: str, save_folder_path: str) -> None:\n",
    "    soup = BeautifulSoup(content, \"html.parser\")\n",
    "    with open(save_folder_path, \"w\") as f:\n",
    "        f.write(str(soup))\n",
    "\n",
    "\n",
    "async def scrape_page(\n",
    "    page: object, file_path: str, method: str, save_folder_path: str\n",
    ") -> None:\n",
    "    if method == \"true\":\n",
    "        url = f\"http://{SERVER_URL}?file_path={file_path}\"\n",
    "    else:\n",
    "        url = f\"http://{SERVER_URL}?file_path={file_path}&method={method}\"\n",
    "\n",
    "    try:\n",
    "        await page.goto(url, timeout=60000, wait_until=\"networkidle\")\n",
    "        content = await page.content()\n",
    "        await save_content(content, save_folder_path)\n",
    "    except Exception as e:\n",
    "        print(f\"Error scraping {url}: {e}\")\n",
    "\n",
    "\n",
    "async def main() -> None:\n",
    "\n",
    "    async with async_playwright() as p:\n",
    "        browser = await p.chromium.launch(headless=True)\n",
    "        context = await browser.new_context()\n",
    "        page = await context.new_page()\n",
    "        for folder in folders:\n",
    "            files = [\n",
    "                f\n",
    "                for f in os.listdir(os.path.join(TRUE_PATH, folder))\n",
    "                if os.path.isfile(os.path.join(TRUE_PATH, folder, f))\n",
    "            ]\n",
    "            for file in files:\n",
    "                file_path = os.path.join(folder, file)\n",
    "                for method in METHODS:\n",
    "                    save_folder_path = os.path.join(GENERATED_PATH, folder, method)\n",
    "                    if not os.path.exists(save_folder_path):\n",
    "                        os.makedirs(save_folder_path)\n",
    "                    save_folder_path = os.path.join(save_folder_path, file)\n",
    "                    await scrape_page(page, file_path, method, save_folder_path)\n",
    "        await browser.close()\n",
    "    print(\"Scraping completed.\")\n",
    "\n",
    "\n",
    "await main()  # noqa: PLE1142"
   ]
  }
 ],
 "metadata": {
  "kernelspec": {
   "display_name": "ghost",
   "language": "python",
   "name": "python3"
  },
  "language_info": {
   "codemirror_mode": {
    "name": "ipython",
    "version": 3
   },
   "file_extension": ".py",
   "mimetype": "text/x-python",
   "name": "python",
   "nbconvert_exporter": "python",
   "pygments_lexer": "ipython3",
   "version": "3.12.7"
  }
 },
 "nbformat": 4,
 "nbformat_minor": 2
}
