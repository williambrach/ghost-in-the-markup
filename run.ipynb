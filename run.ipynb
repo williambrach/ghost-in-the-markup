{
 "cells": [
  {
   "cell_type": "code",
   "execution_count": 1,
   "metadata": {},
   "outputs": [],
   "source": [
    "%reload_ext autoreload\n",
    "%autoreload 2\n",
    "\n",
    "import os\n",
    "\n",
    "import pandas as pd\n",
    "from dotenv import load_dotenv\n",
    "\n",
    "from src import ghost, html\n",
    "from src.evaluation import eval_recipes\n",
    "from src.models import Recipe"
   ]
  },
  {
   "cell_type": "markdown",
   "metadata": {},
   "source": [
    "### Setup enviroment"
   ]
  },
  {
   "cell_type": "code",
   "execution_count": 2,
   "metadata": {},
   "outputs": [],
   "source": [
    "load_dotenv()\n",
    "LITELLM_API_KEY = os.getenv(\"LITELLM_API_KEY\")\n",
    "MODEL = \"gpt-4o-mini\"\n",
    "LITELLM_URL = os.getenv(\"LITELLM_URL\")"
   ]
  },
  {
   "cell_type": "code",
   "execution_count": 3,
   "metadata": {},
   "outputs": [],
   "source": [
    "prompt = \"Extract the recipe from the following html - {content}\""
   ]
  },
  {
   "cell_type": "markdown",
   "metadata": {},
   "source": [
    "### HTML modification here"
   ]
  },
  {
   "cell_type": "code",
   "execution_count": null,
   "metadata": {},
   "outputs": [],
   "source": []
  },
  {
   "cell_type": "markdown",
   "metadata": {},
   "source": [
    "### Eval"
   ]
  },
  {
   "cell_type": "code",
   "execution_count": 8,
   "metadata": {},
   "outputs": [
    {
     "name": "stdout",
     "output_type": "stream",
     "text": [
      "['2.0 lbs Butternut squash', '3.0 tbsp Olive oil', 'Salt', 'Freshly ground black pepper', '2.0 sprigs Fresh thyme', '6.0 cups Vegetable or chicken stock', '2.0 tbsp Butter', '1.0 large Onion', '3.0 cloves Garlic', '2.0 cups Arborio rice', '0.5 cups Dry white wine', '0.5 cups Freshly grated Parmesan cheese', '8.0  Fresh sage leaves', '2.0 tbsp Butter (for finishing)', 'Salt and freshly ground black pepper to taste']\n",
      "['2.0 lbs Medium butternut squash', '3.0 tablespoons Olive oil', 'Salt', 'Freshly ground black pepper', '2.0 sprigs Fresh thyme', '6.0 cups Vegetable or chicken stock', '2.0 tablespoons Butter', '1.0 count Large onion', '3.0 cloves Garlic', '2.0 cups Arborio rice', '0.5 cups Dry white wine', '0.5 cups Freshly grated Parmesan cheese', '8.0 count Fresh sage leaves', '2.0 tablespoons Butter (for finishing)', 'Salt and freshly ground black pepper to taste']\n"
     ]
    },
    {
     "data": {
      "text/plain": [
       "{'title_match': True,\n",
       " 'title_distance': 0,\n",
       " 'ingredients_match': False,\n",
       " 'ingredients_distance': 2.8,\n",
       " 'instructions_match': True,\n",
       " 'instructions_distance': 0}"
      ]
     },
     "execution_count": 8,
     "metadata": {},
     "output_type": "execute_result"
    }
   ],
   "source": [
    "true_html = html.parse_from_file(\"src/data/dummy/recipe_1.html\")\n",
    "modified_html = html.parse_from_file(\"src/data/dummy/recipe_1.html\")\n",
    "\n",
    "\n",
    "score = ghost.compare(\n",
    "    # true html\n",
    "    true_html=true_html,\n",
    "    # modified html\n",
    "    modified_html=modified_html,\n",
    "    # prompt for llm\n",
    "    prompt=prompt,\n",
    "    # response object that should be extracted from html\n",
    "    response_object=Recipe,\n",
    "    # eval function to evaluate the response object\n",
    "    eval_func=eval_recipes,\n",
    "    # api key for litellm\n",
    "    api_key=LITELLM_API_KEY,\n",
    "    # litellm base url\n",
    "    base_url=LITELLM_URL,\n",
    ")\n",
    "score"
   ]
  },
  {
   "cell_type": "code",
   "execution_count": 7,
   "metadata": {},
   "outputs": [
    {
     "data": {
      "text/html": [
       "<div>\n",
       "<style scoped>\n",
       "    .dataframe tbody tr th:only-of-type {\n",
       "        vertical-align: middle;\n",
       "    }\n",
       "\n",
       "    .dataframe tbody tr th {\n",
       "        vertical-align: top;\n",
       "    }\n",
       "\n",
       "    .dataframe thead th {\n",
       "        text-align: right;\n",
       "    }\n",
       "</style>\n",
       "<table border=\"1\" class=\"dataframe\">\n",
       "  <thead>\n",
       "    <tr style=\"text-align: right;\">\n",
       "      <th></th>\n",
       "      <th>title_match</th>\n",
       "      <th>title_distance</th>\n",
       "      <th>ingredients_match</th>\n",
       "      <th>ingredients_distance</th>\n",
       "      <th>instructions_match</th>\n",
       "      <th>instructions_distance</th>\n",
       "    </tr>\n",
       "  </thead>\n",
       "  <tbody>\n",
       "    <tr>\n",
       "      <th>0</th>\n",
       "      <td>True</td>\n",
       "      <td>0</td>\n",
       "      <td>False</td>\n",
       "      <td>19.5</td>\n",
       "      <td>True</td>\n",
       "      <td>0</td>\n",
       "    </tr>\n",
       "  </tbody>\n",
       "</table>\n",
       "</div>"
      ],
      "text/plain": [
       "   title_match  title_distance  ingredients_match  ingredients_distance  \\\n",
       "0         True               0              False                  19.5   \n",
       "\n",
       "   instructions_match  instructions_distance  \n",
       "0                True                      0  "
      ]
     },
     "execution_count": 7,
     "metadata": {},
     "output_type": "execute_result"
    }
   ],
   "source": [
    "pd.DataFrame([score])"
   ]
  }
 ],
 "metadata": {
  "kernelspec": {
   "display_name": "html",
   "language": "python",
   "name": "python3"
  },
  "language_info": {
   "codemirror_mode": {
    "name": "ipython",
    "version": 3
   },
   "file_extension": ".py",
   "mimetype": "text/x-python",
   "name": "python",
   "nbconvert_exporter": "python",
   "pygments_lexer": "ipython3",
   "version": "3.12.7"
  }
 },
 "nbformat": 4,
 "nbformat_minor": 2
}
