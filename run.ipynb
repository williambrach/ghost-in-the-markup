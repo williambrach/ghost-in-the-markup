{
 "cells": [
  {
   "cell_type": "code",
   "execution_count": 1,
   "metadata": {},
   "outputs": [],
   "source": [
    "%reload_ext autoreload\n",
    "%autoreload 2\n",
    "\n",
    "import os\n",
    "\n",
    "import pandas as pd\n",
    "from dotenv import load_dotenv\n",
    "\n",
    "from src import ghost, html\n",
    "from src.evaluation import eval_recipes\n",
    "from src.models import Recipe"
   ]
  },
  {
   "cell_type": "markdown",
   "metadata": {},
   "source": [
    "### Setup enviroment"
   ]
  },
  {
   "cell_type": "code",
   "execution_count": 2,
   "metadata": {},
   "outputs": [],
   "source": [
    "load_dotenv()\n",
    "LITELLM_API_KEY = os.getenv(\"LITELLM_API_KEY\")\n",
    "MODEL = \"gpt-4o-mini\"\n",
    "LITELLM_URL = os.getenv(\"LITELLM_URL\")"
   ]
  },
  {
   "cell_type": "code",
   "execution_count": 3,
   "metadata": {},
   "outputs": [],
   "source": [
    "prompt = \"Extract the recipe from the following html - {content}\""
   ]
  },
  {
   "cell_type": "markdown",
   "metadata": {},
   "source": [
    "### HTML modification here"
   ]
  },
  {
   "cell_type": "code",
   "execution_count": null,
   "metadata": {},
   "outputs": [],
   "source": []
  },
  {
   "cell_type": "markdown",
   "metadata": {},
   "source": [
    "### Eval"
   ]
  },
  {
   "cell_type": "code",
   "execution_count": 6,
   "metadata": {},
   "outputs": [
    {
     "data": {
      "text/plain": [
       "{'title_match': True,\n",
       " 'title_distance': 0,\n",
       " 'ingredients_match': True,\n",
       " 'ingredients_distance': 0,\n",
       " 'instructions_match': True,\n",
       " 'instructions_distance': 0}"
      ]
     },
     "execution_count": 6,
     "metadata": {},
     "output_type": "execute_result"
    }
   ],
   "source": [
    "true_html = html.parse_from_file(\"src/data/dummy/recipe_1.html\")\n",
    "modified_html = html.parse_from_file(\"src/data/dummy/recipe_1.html\")\n",
    "\n",
    "\n",
    "score = ghost.compare(\n",
    "    # true html\n",
    "    true_html=true_html,\n",
    "    # modified html\n",
    "    modified_html=modified_html,\n",
    "    # prompt for llm\n",
    "    prompt=prompt,\n",
    "    # response object that should be extracted from html\n",
    "    response_object=Recipe,\n",
    "    # eval function to evaluate the response object\n",
    "    eval_func=eval_recipes,\n",
    "    # api key for litellm\n",
    "    api_key=LITELLM_API_KEY,\n",
    "    # litellm base url\n",
    "    base_url=LITELLM_URL,\n",
    ")\n",
    "score"
   ]
  },
  {
   "cell_type": "code",
   "execution_count": 5,
   "metadata": {},
   "outputs": [
    {
     "data": {
      "text/html": [
       "<div>\n",
       "<style scoped>\n",
       "    .dataframe tbody tr th:only-of-type {\n",
       "        vertical-align: middle;\n",
       "    }\n",
       "\n",
       "    .dataframe tbody tr th {\n",
       "        vertical-align: top;\n",
       "    }\n",
       "\n",
       "    .dataframe thead th {\n",
       "        text-align: right;\n",
       "    }\n",
       "</style>\n",
       "<table border=\"1\" class=\"dataframe\">\n",
       "  <thead>\n",
       "    <tr style=\"text-align: right;\">\n",
       "      <th></th>\n",
       "      <th>title_match</th>\n",
       "      <th>title_distance</th>\n",
       "      <th>ingredients_match</th>\n",
       "      <th>ingredients_distance</th>\n",
       "      <th>instructions_match</th>\n",
       "      <th>instructions_distance</th>\n",
       "    </tr>\n",
       "  </thead>\n",
       "  <tbody>\n",
       "    <tr>\n",
       "      <th>0</th>\n",
       "      <td>True</td>\n",
       "      <td>0</td>\n",
       "      <td>True</td>\n",
       "      <td>0</td>\n",
       "      <td>True</td>\n",
       "      <td>0</td>\n",
       "    </tr>\n",
       "  </tbody>\n",
       "</table>\n",
       "</div>"
      ],
      "text/plain": [
       "   title_match  title_distance  ingredients_match  ingredients_distance  \\\n",
       "0         True               0               True                     0   \n",
       "\n",
       "   instructions_match  instructions_distance  \n",
       "0                True                      0  "
      ]
     },
     "execution_count": 5,
     "metadata": {},
     "output_type": "execute_result"
    }
   ],
   "source": [
    "pd.DataFrame([score])"
   ]
  }
 ],
 "metadata": {
  "kernelspec": {
   "display_name": "ghost",
   "language": "python",
   "name": "python3"
  },
  "language_info": {
   "codemirror_mode": {
    "name": "ipython",
    "version": 3
   },
   "file_extension": ".py",
   "mimetype": "text/x-python",
   "name": "python",
   "nbconvert_exporter": "python",
   "pygments_lexer": "ipython3",
   "version": "3.12.7"
  }
 },
 "nbformat": 4,
 "nbformat_minor": 2
}
